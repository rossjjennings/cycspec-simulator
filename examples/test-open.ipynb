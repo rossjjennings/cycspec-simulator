{
 "cells": [
  {
   "cell_type": "code",
   "execution_count": 1,
   "id": "9c261b56",
   "metadata": {},
   "outputs": [],
   "source": [
    "import numpy as np\n",
    "import matplotlib as mpl\n",
    "import matplotlib.pyplot as plt\n",
    "from baseband import guppi\n",
    "\n",
    "%matplotlib notebook"
   ]
  },
  {
   "cell_type": "code",
   "execution_count": 2,
   "id": "44ea1f9e",
   "metadata": {},
   "outputs": [
    {
     "name": "stdout",
     "output_type": "stream",
     "text": [
      "B1937+21-40us.raw\t\t     simulate.ipynb\r\n",
      "B1937+21_pred.par\t\t     symmetric-vs-asymmetric.ipynb\r\n",
      "B1937+21.Rcvr1_2.GUPPI.15y.x.sum.sm  template-recovery.ipynb\r\n",
      "benchmarking.ipynb\t\t     test-open.ipynb\r\n",
      "polyco-B1937+21-60000.dat\r\n"
     ]
    }
   ],
   "source": [
    "!ls"
   ]
  },
  {
   "cell_type": "code",
   "execution_count": 3,
   "id": "3aeb1f14",
   "metadata": {},
   "outputs": [],
   "source": [
    "fh = guppi.open('B1937+21-40us.raw')"
   ]
  },
  {
   "cell_type": "code",
   "execution_count": 4,
   "id": "01d6936c",
   "metadata": {},
   "outputs": [],
   "source": [
    "contents = fh.read()"
   ]
  },
  {
   "cell_type": "code",
   "execution_count": 5,
   "id": "bfcd13be",
   "metadata": {},
   "outputs": [
    {
     "data": {
      "text/plain": [
       "(4193055, 4)"
      ]
     },
     "execution_count": 5,
     "metadata": {},
     "output_type": "execute_result"
    }
   ],
   "source": [
    "contents.shape"
   ]
  },
  {
   "cell_type": "code",
   "execution_count": 6,
   "id": "c41ce2ec",
   "metadata": {},
   "outputs": [
    {
     "data": {
      "text/plain": [
       "dtype('float32')"
      ]
     },
     "execution_count": 6,
     "metadata": {},
     "output_type": "execute_result"
    }
   ],
   "source": [
    "contents.dtype"
   ]
  },
  {
   "cell_type": "code",
   "execution_count": 7,
   "id": "420823f8",
   "metadata": {},
   "outputs": [],
   "source": [
    "from blimpy import GuppiRaw"
   ]
  },
  {
   "cell_type": "code",
   "execution_count": 19,
   "id": "a25e5730",
   "metadata": {},
   "outputs": [],
   "source": [
    "gr = GuppiRaw('B1937+21-40us.raw')"
   ]
  },
  {
   "cell_type": "code",
   "execution_count": 14,
   "id": "5cff9745",
   "metadata": {},
   "outputs": [
    {
     "name": "stdout",
     "output_type": "stream",
     "text": [
      "x.shape: (1, 4193055, 2), x.dtype: int8\n",
      "y.shape: (1, 4193055, 2), y.dtype: int8\n",
      "\n",
      "get_data: End of file reached, returning to caller\n",
      "\n"
     ]
    }
   ],
   "source": [
    "for header, x, y in gr.get_data():\n",
    "    print(f\"x.shape: {x.shape}, x.dtype: {x.dtype}\")\n",
    "    print(f\"y.shape: {y.shape}, y.dtype: {y.dtype}\")"
   ]
  },
  {
   "cell_type": "code",
   "execution_count": 20,
   "id": "5063e697",
   "metadata": {},
   "outputs": [],
   "source": [
    "header, data = gr.read_next_data_block()"
   ]
  },
  {
   "cell_type": "code",
   "execution_count": 22,
   "id": "94a3fa12",
   "metadata": {},
   "outputs": [
    {
     "data": {
      "text/plain": [
       "(1, 4193055, 2)"
      ]
     },
     "execution_count": 22,
     "metadata": {},
     "output_type": "execute_result"
    }
   ],
   "source": [
    "data.shape"
   ]
  },
  {
   "cell_type": "code",
   "execution_count": null,
   "id": "10b63da2",
   "metadata": {},
   "outputs": [],
   "source": []
  }
 ],
 "metadata": {
  "kernelspec": {
   "display_name": "Python 3 (ipykernel)",
   "language": "python",
   "name": "python3"
  },
  "language_info": {
   "codemirror_mode": {
    "name": "ipython",
    "version": 3
   },
   "file_extension": ".py",
   "mimetype": "text/x-python",
   "name": "python",
   "nbconvert_exporter": "python",
   "pygments_lexer": "ipython3",
   "version": "3.11.0"
  }
 },
 "nbformat": 4,
 "nbformat_minor": 5
}
